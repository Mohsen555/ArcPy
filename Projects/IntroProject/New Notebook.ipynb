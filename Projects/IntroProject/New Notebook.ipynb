{
 "cells": [
  {
   "cell_type": "markdown",
   "metadata": {},
   "source": [
    "### Place Populations by State/Province\n",
    "What are the populations of each state/province in one country?\n",
    "\n",
    "First we select the country by using its name as stored in the ADM0NAME field:"
   ]
  },
  {
   "cell_type": "code",
   "execution_count": 8,
   "metadata": {},
   "outputs": [
    {
     "data": {
      "text/html": [
       "<div class='gpresult'><h2>Messages</h2><div id='messages'>Start Time: Thursday, June 20, 2024 9:58:56 PM<br>Succeeded at Thursday, June 20, 2024 9:58:57 PM (Elapsed Time: 1.12 seconds)<br></div><div id = 'default' /></div></div>"
      ],
      "text/plain": [
       "<Result 'E:\\\\LPA\\\\Data\\\\Sample.gdb\\\\Places1Country'>"
      ]
     },
     "execution_count": 8,
     "metadata": {},
     "output_type": "execute_result"
    }
   ],
   "source": [
    "arcpy.env.overwriteOutput = True\n",
    "arcpy.env.workspace = r\"E:\\LPA\\Data\\Sample.gdb\"\n",
    "placesFC = r\"E:\\LPA\\Data\\ne_10m_populated_places.shp\"\n",
    "arcpy.Select_analysis(placesFC, \"Places1Country\",\"ADM0NAME = 'Switzerland'\")"
   ]
  },
  {
   "cell_type": "markdown",
   "metadata": {},
   "source": [
    "Now we'll summarize the population by state or province, and sort the result:"
   ]
  },
  {
   "cell_type": "code",
   "execution_count": 9,
   "metadata": {},
   "outputs": [
    {
     "data": {
      "text/html": [
       "<div class='gpresult'><h2>Messages</h2><div id='messages'>Start Time: Thursday, June 20, 2024 9:58:57 PM<br>Succeeded at Thursday, June 20, 2024 9:58:57 PM (Elapsed Time: 0.29 seconds)<br></div><div id = 'default' /></div></div>"
      ],
      "text/plain": [
       "<Result 'E:\\\\LPA\\\\Data\\\\Sample.gdb\\\\ProvincesStatsSorted'>"
      ]
     },
     "execution_count": 9,
     "metadata": {},
     "output_type": "execute_result"
    }
   ],
   "source": [
    "arcpy.analysis.Statistics(\"Places1Country\",\"ProvincesStats\", [[\"POP_MAX\", \"SUM\"], [\"POP_MAX\", \"MEAN\"], [\"POP_MAX\", \"MIN\"], [\"POP_MAX\", \"MAX\"]], \"ADM1NAME\")\n",
    "arcpy.management.Sort(\"ProvincesStats\", \"ProvincesStatsSorted\", \"SUM_POP_MAX\")"
   ]
  },
  {
   "cell_type": "code",
   "execution_count": null,
   "metadata": {},
   "outputs": [],
   "source": []
  }
 ],
 "metadata": {
  "kernelspec": {
   "display_name": "ArcGISPro",
   "language": "Python",
   "name": "python3"
  },
  "language_info": {
   "file_extension": ".py",
   "name": "python",
   "version": "3"
  }
 },
 "nbformat": 4,
 "nbformat_minor": 2
}
